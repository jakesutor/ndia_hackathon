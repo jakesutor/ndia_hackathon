{
 "cells": [
  {
   "cell_type": "code",
   "execution_count": 0,
   "metadata": {
    "application/vnd.databricks.v1+cell": {
     "cellMetadata": {
      "byteLimit": 2048000,
      "rowLimit": 10000
     },
     "inputWidgets": {},
     "nuid": "108603eb-b434-49ab-a28f-8e58124a4e75",
     "showTitle": false,
     "tableResultSettingsMap": {},
     "title": ""
    }
   },
   "outputs": [],
   "source": [
    "import numpy as np \n",
    "import pandas as pd \n",
    "from sklearn.model_selection import train_test_split, GridSearchCV\n",
    "from sklearn.preprocessing import StandardScaler, OneHotEncoder, LabelEncoder, MinMaxScaler\n",
    "from sklearn.compose import ColumnTransformer\n",
    "from sklearn.pipeline import Pipeline\n",
    "from sklearn.ensemble import GradientBoostingClassifier\n",
    "from sklearn.metrics import classification_report"
   ]
  },
  {
   "cell_type": "code",
   "execution_count": 0,
   "metadata": {
    "application/vnd.databricks.v1+cell": {
     "cellMetadata": {},
     "inputWidgets": {},
     "nuid": "52534938-a9f4-4edc-a5fc-aa459f119765",
     "showTitle": false,
     "tableResultSettingsMap": {},
     "title": ""
    }
   },
   "outputs": [],
   "source": [
    "#Immunization complience might be introduced a target leakage \"immunization_compliance"
   ]
  },
  {
   "cell_type": "code",
   "execution_count": 0,
   "metadata": {
    "application/vnd.databricks.v1+cell": {
     "cellMetadata": {
      "byteLimit": 2048000,
      "rowLimit": 10000
     },
     "inputWidgets": {},
     "nuid": "fea5d06d-1208-4188-bbe1-39f7d98b4bf7",
     "showTitle": false,
     "tableResultSettingsMap": {},
     "title": ""
    }
   },
   "outputs": [],
   "source": [
    "df = spark.table(\"avengers.default.all_pilots_data\").toPandas()\n",
    "Zeros = df[df['profile_next_90d'] == 0]\n",
    "Ones = df[df['profile_next_90d'] == 1]\n",
    "\n",
    "\n",
    "ones_train, ones_test = train_test_split(Ones , test_size=0.2, random_state=42)\n",
    "zeros_train, zeros_test = train_test_split(Zeros , test_size=0.2, random_state=42)\n",
    "\n",
    "Train = pd.concat([ones_train,zeros_train])\n",
    "Test = pd.concat([ones_test,zeros_test])\n",
    "\n",
    "X_train =  Train[['gender','aircraft','aeromedical_class_current','dental_readiness','pha_status',\"age\",\"flight_hours_last_12mo\",\"abnormal_labs_6mo\",\"encounters_6mo\",\"pha_overdue_flag\",\"flight_hours_total\"]]\n",
    "y_train = Train['profile_next_90d']\n",
    "\n",
    "X_test =  Test[['gender','aircraft','aeromedical_class_current','dental_readiness','pha_status',\"age\",\"flight_hours_last_12mo\",\"abnormal_labs_6mo\",\"encounters_6mo\",\"pha_overdue_flag\",\"flight_hours_total\"]]\n",
    "y_test = Test['profile_next_90d']\n",
    "\n",
    "\n",
    "#Preprocessing \n",
    "numeric_features = [\"age\",\"flight_hours_last_12mo\",\"abnormal_labs_6mo\",\"encounters_6mo\",\"pha_overdue_flag\",\"flight_hours_total\"]\n",
    "categorical_features = [\"gender\",\"aircraft\",\"aeromedical_class_current\",\"dental_readiness\",\"pha_status\"]\n",
    "\n",
    "numeric_transformer = Pipeline(steps=[('scaler', StandardScaler())])\n",
    "categorical_transformer = Pipeline(steps=[('onehot', OneHotEncoder(handle_unknown='ignore'))])\n",
    "preprocessor = ColumnTransformer(\n",
    "    transformers=[\n",
    "        ('num', numeric_transformer, numeric_features),\n",
    "        ('cat', categorical_transformer, categorical_features)])\n",
    "\n",
    "gb_clf = GradientBoostingClassifier(random_state=42)\n",
    "pipeline = Pipeline(steps=[('preprocessor', preprocessor),(\"classifier\", gb_clf)])\n",
    "\n",
    "param_grid = {\"classifier__n_estimators\": [100, 200],\n",
    "              \"classifier__learning_rate\": [0.01,0.1,0.2],\n",
    "              \"classifier__max_depth\": [3, 5, 7]\n",
    "}\n",
    "\n",
    "grid_search = GridSearchCV(pipeline, param_grid, cv=3, scoring='f1',n_jobs=1)\n",
    "\n",
    "grid_search.fit(X_train, y_train)\n",
    "\n",
    "print(\"Best parameters: \", grid_search.best_params_)\n",
    "print(\"Best cross-validation score: \", grid_search.best_score_)\n",
    "\n",
    "\n",
    "y_pred = grid_search.predict(X_test)\n",
    "print(\"Test set score: \", grid_search.score(X_test, y_test))\n",
    "print(classification_report(y_test, y_pred))\n"
   ]
  },
  {
   "cell_type": "code",
   "execution_count": 0,
   "metadata": {
    "application/vnd.databricks.v1+cell": {
     "cellMetadata": {
      "byteLimit": 2048000,
      "rowLimit": 10000
     },
     "inputWidgets": {},
     "nuid": "76196627-bd16-4308-a791-8eab58868bf8",
     "showTitle": false,
     "tableResultSettingsMap": {},
     "title": ""
    }
   },
   "outputs": [],
   "source": [
    "best_pipeline = grid_search.best_estimator_\n",
    "classifier = best_pipeline.named_steps['classifier']\n",
    "preprocessor = best_pipeline.named_steps['preprocessor']\n",
    "importances = classifier.feature_importances_\n",
    "numeric_features = [\"age\",\"flight_hours_last_12mo\",\"abnormal_labs_6mo\",\"encounters_6mo\",\"pha_overdue_flag\",\"flight_hours_total\"]\n",
    "categorical_features = [\"gender\",\"aircraft\",\"aeromedical_class_current\",\"dental_readiness\",\"pha_status\"]\n",
    "categorical_features = preprocessor.named_transformers_['cat'][\"onehot\"].get_feature_names_out(categorical_features)\n",
    "\n",
    "all_feature_names = np.concatenate([numeric_features,categorical_features])\n",
    "feat_importances = pd.Series(importances, index=all_feature_names)\n",
    "feat_importances.nlargest(10).plot(kind='barh')"
   ]
  },
  {
   "cell_type": "code",
   "execution_count": 0,
   "metadata": {
    "application/vnd.databricks.v1+cell": {
     "cellMetadata": {
      "byteLimit": 2048000,
      "rowLimit": 10000
     },
     "inputWidgets": {},
     "nuid": "3eb7fe73-c67e-4acb-98da-e8b995a866a8",
     "showTitle": false,
     "tableResultSettingsMap": {},
     "title": ""
    }
   },
   "outputs": [],
   "source": [
    "all_feature_names\n"
   ]
  },
  {
   "cell_type": "code",
   "execution_count": 0,
   "metadata": {
    "application/vnd.databricks.v1+cell": {
     "cellMetadata": {
      "byteLimit": 2048000,
      "rowLimit": 10000
     },
     "inputWidgets": {},
     "nuid": "4fda80a4-e8e8-48d2-815f-b7b0d121d029",
     "showTitle": false,
     "tableResultSettingsMap": {},
     "title": ""
    }
   },
   "outputs": [],
   "source": []
  },
  {
   "cell_type": "code",
   "execution_count": 0,
   "metadata": {
    "application/vnd.databricks.v1+cell": {
     "cellMetadata": {
      "byteLimit": 2048000,
      "rowLimit": 10000
     },
     "inputWidgets": {},
     "nuid": "c61b6964-48c1-484f-8e47-b23b03376795",
     "showTitle": false,
     "tableResultSettingsMap": {},
     "title": ""
    }
   },
   "outputs": [],
   "source": [
    "pd.concat([ones_train,zeros_train])"
   ]
  },
  {
   "cell_type": "code",
   "execution_count": 0,
   "metadata": {
    "application/vnd.databricks.v1+cell": {
     "cellMetadata": {
      "byteLimit": 2048000,
      "rowLimit": 10000
     },
     "inputWidgets": {},
     "nuid": "398b0d50-f164-4d14-8108-7100293ada5f",
     "showTitle": false,
     "tableResultSettingsMap": {},
     "title": ""
    }
   },
   "outputs": [],
   "source": [
    "y_pred_test = grid_search.predict(X_test)\n",
    "y_pred_train = grid_search.predict(X_train)"
   ]
  },
  {
   "cell_type": "code",
   "execution_count": 0,
   "metadata": {
    "application/vnd.databricks.v1+cell": {
     "cellMetadata": {
      "byteLimit": 2048000,
      "rowLimit": 10000
     },
     "inputWidgets": {},
     "nuid": "393524c3-f238-4eb7-b3f6-7425a0e2e7fd",
     "showTitle": false,
     "tableResultSettingsMap": {},
     "title": ""
    }
   },
   "outputs": [],
   "source": [
    "X_test['Predicted'] = y_pred_test\n",
    "X_test['Actual'] = y_test\n",
    "X_train['Predicted'] = y_pred_train\n",
    "X_train['Actual'] = y_train\n",
    "all = pd.concat([X_train, X_test])\n",
    "spark.createDataFrame(all).write \\\n",
    "                                .format('delta') \\\n",
    "                                .option('maxRecordsPerFile', 2000) \\\n",
    "                                .option(\"overwriteSchema\", \"false\") \\\n",
    "                                .mode('append') \\\n",
    "                                .saveAsTable(\"avengers.default.gbtresults\")\n"
   ]
  },
  {
   "cell_type": "code",
   "execution_count": 0,
   "metadata": {
    "application/vnd.databricks.v1+cell": {
     "cellMetadata": {
      "byteLimit": 2048000,
      "rowLimit": 10000
     },
     "inputWidgets": {},
     "nuid": "2f67ba02-9133-436b-b992-a27e1aa8e8c4",
     "showTitle": false,
     "tableResultSettingsMap": {
      "0": {
       "dataGridStateBlob": "{\"version\":1,\"tableState\":{\"columnPinning\":{\"left\":[\"#row_number#\"],\"right\":[]},\"columnSizing\":{},\"columnVisibility\":{}},\"settings\":{\"columns\":{}},\"syncTimestamp\":1756257595278}",
       "filterBlob": null,
       "queryPlanFiltersBlob": null,
       "tableResultIndex": 0
      }
     },
     "title": ""
    }
   },
   "outputs": [],
   "source": [
    "spark.table('avengers.default.gbtresults').display()"
   ]
  }
 ],
 "metadata": {
  "application/vnd.databricks.v1+notebook": {
   "computePreferences": null,
   "dashboards": [],
   "environmentMetadata": {
    "base_environment": "",
    "environment_version": "3"
   },
   "inputWidgetPreferences": null,
   "language": "python",
   "notebookMetadata": {
    "pythonIndentUnit": 4
   },
   "notebookName": "Gradient_Boosting_Python",
   "widgets": {}
  },
  "language_info": {
   "name": "python"
  }
 },
 "nbformat": 4,
 "nbformat_minor": 0
}

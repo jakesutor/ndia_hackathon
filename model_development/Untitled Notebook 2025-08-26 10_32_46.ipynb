{
 "cells": [
  {
   "cell_type": "code",
   "execution_count": 0,
   "metadata": {
    "application/vnd.databricks.v1+cell": {
     "cellMetadata": {},
     "inputWidgets": {},
     "nuid": "6c992e1b-e3f3-4028-b358-1fa2d4b9d060",
     "showTitle": false,
     "tableResultSettingsMap": {},
     "title": ""
    }
   },
   "outputs": [],
   "source": [
    "from pyspark.sql.functions import col\n",
    "from pyspark.sql.functions import lit\n",
    "from pyspark.sql import functions as f "
   ]
  },
  {
   "cell_type": "code",
   "execution_count": 0,
   "metadata": {
    "application/vnd.databricks.v1+cell": {
     "cellMetadata": {
      "byteLimit": 2048000,
      "rowLimit": 10000
     },
     "inputWidgets": {},
     "nuid": "dd463757-096d-456a-ba36-00726bc3c911",
     "showTitle": false,
     "tableResultSettingsMap": {},
     "title": ""
    }
   },
   "outputs": [],
   "source": [
    "\n",
    "template = \"\"\"You are an expert health advisor evaluating the health status of military pilots based on medical and readiness data. Given the following features and record for a pilot, assess their health status on a scale from 1 (unhealthy) to 10 (healthy). Consider factor like age, diagnosis, history, mental health status, prescriptions, lab results, and procedural compliance.\n",
    "**Pilot Information**\n",
    "- Age: {age}\n",
    "- Gender: {gender}\n",
    "- Rank: {rank}\n",
    "- Flight Hours Total: {flight_hours_total}\n",
    "- Flight Hours Last 12 Months: {flight_hours_last_12mo}\n",
    "**Medical Records**\n",
    "- Diagnosis: {diagnosis}\n",
    "- Medications: {medication}\n",
    "- Hospitalization reason: {hospitalization_reason}\n",
    "- Dental Readiness: {dental_readiness}\n",
    "- Lab results: {test_name} - {result_value} - {unit} ref low {ref_low} ref high {ref_high}\n",
    "- Doctor Visits: {encounters_6mo}\n",
    "**Mental Health**\n",
    "- Mental Health Medication: {mental_health_medication}\n",
    "- Therapy Sessions: {therapy_sessions}\n",
    "\n",
    "Analyze the data and provide a health status score, considering the severity of the conditions, frequency of health visists, mental health management, and laboratory flags. If fields are left blank assume that the pilot did not have to any condition or procedure. Provide reasoning for your score in the following list format:\n",
    "[score, reason]\"\"\"\n",
    "\n",
    "\n",
    "\n",
    "@f.udf(\"string\")\n",
    "def render_prompt(m: dict)-> str:\n",
    "    return template.format(**m)\n",
    "\n",
    "def generate_json():\n",
    "    df = spark.table(\"avengers.default.all_pilots_data\")\n",
    "    profile_columns = [\"age\",\"gender\",'rank','flight_hours_total','flight_hours_last_12mo',\"diagnosis\",\"medication\",\"hospitalization_reason\",\"dental_readiness\",\"test_name\",\"result_value\",\"unit\", \"ref_low\",\"ref_high\",\"encounters_6mo\",\"mental_health_medication\",\"therapy_sessions\"]\n",
    "    sections_struct = [f.col(col).alias(col) for col in profile_columns]\n",
    "    record_map = f.create_map(*sum([[f.lit(c), f.coalesce(f.col(c).cast(\"string\"), f.lit(\"\"))] for c in profile_columns],[]))\n",
    "\n",
    "    df = df.withColumn('content', f.to_json(f.struct(*sections_struct)))\n",
    "    df = df.withColumn('prompt', render_prompt(record_map))\n",
    "    return(df)"
   ]
  },
  {
   "cell_type": "code",
   "execution_count": 0,
   "metadata": {
    "application/vnd.databricks.v1+cell": {
     "cellMetadata": {
      "byteLimit": 2048000,
      "rowLimit": 10000
     },
     "inputWidgets": {},
     "nuid": "39bc4753-98e1-4da2-9483-4c64df1a4be0",
     "showTitle": false,
     "tableResultSettingsMap": {},
     "title": ""
    }
   },
   "outputs": [],
   "source": [
    "df = generate_json()"
   ]
  },
  {
   "cell_type": "code",
   "execution_count": 0,
   "metadata": {
    "application/vnd.databricks.v1+cell": {
     "cellMetadata": {
      "byteLimit": 2048000,
      "rowLimit": 10000
     },
     "inputWidgets": {},
     "nuid": "6314615c-49d8-4da3-9f9a-d7a7e0a313fb",
     "showTitle": false,
     "tableResultSettingsMap": {},
     "title": ""
    }
   },
   "outputs": [],
   "source": [
    "from mlflow.deployments import get_deploy_client\n",
    "\n",
    "client = get_deploy_client(\"databricks\")\n",
    "model_name = \"databricks-gpt-oss-120b\"\n",
    "inputs = {\n",
    "  \"messages\": [\n",
    "    {\n",
    "      \"role\": \"user\",\n",
    "      \"content\": \"What is Databricks?\"\n",
    "    }\n",
    "  ],\n",
    "  \"max_tokens\": 128\n",
    "}\n",
    "results = client.predict(endpoint = model_name, inputs = inputs)"
   ]
  },
  {
   "cell_type": "code",
   "execution_count": 0,
   "metadata": {
    "application/vnd.databricks.v1+cell": {
     "cellMetadata": {
      "byteLimit": 2048000,
      "rowLimit": 10000
     },
     "inputWidgets": {},
     "nuid": "f6fc19b6-b32e-4332-b806-f330a7c642dd",
     "showTitle": false,
     "tableResultSettingsMap": {},
     "title": ""
    }
   },
   "outputs": [],
   "source": [
    "results[]"
   ]
  },
  {
   "cell_type": "code",
   "execution_count": 0,
   "metadata": {
    "application/vnd.databricks.v1+cell": {
     "cellMetadata": {
      "byteLimit": 2048000,
      "rowLimit": 10000
     },
     "inputWidgets": {},
     "nuid": "2e1b2ac6-5010-4d7e-ac4b-7e54f229da95",
     "showTitle": false,
     "tableResultSettingsMap": {
      "0": {
       "dataGridStateBlob": "{\"version\":1,\"tableState\":{\"columnPinning\":{\"left\":[\"#row_number#\"],\"right\":[]},\"columnSizing\":{},\"columnVisibility\":{}},\"settings\":{\"columns\":{}},\"syncTimestamp\":1756232465639}",
       "filterBlob": null,
       "queryPlanFiltersBlob": null,
       "tableResultIndex": 0
      }
     },
     "title": ""
    }
   },
   "outputs": [],
   "source": [
    "df.display()"
   ]
  },
  {
   "cell_type": "code",
   "execution_count": 0,
   "metadata": {
    "application/vnd.databricks.v1+cell": {
     "cellMetadata": {
      "byteLimit": 2048000,
      "rowLimit": 10000
     },
     "inputWidgets": {},
     "nuid": "a87d3202-842f-4c63-a974-2d2dca591a7a",
     "showTitle": false,
     "tableResultSettingsMap": {},
     "title": ""
    }
   },
   "outputs": [],
   "source": [
    "template = \"\"\"You are an expert health advisor evaluating the health status of military pilots based on medical and readiness data. Given the following features and record for a pilot, assess their health status on a scale from 1 (unhealthy) to 10 (healthy). Consider factor like age, diagnosis, history, mental health status, prescriptions, lab results, and procedural compliance.\n",
    "**Pilot Information**\n",
    "- Age: {age}\n",
    "- Gender: {gender}\n",
    "- Rank: {rank}\n",
    "- Flight Hours Total: {flight_hours_total}\n",
    "- Flight Hours Last 12 Months: {flight_hours_last_12mo}\n",
    "**Medical Records**\n",
    "- Diagnosis: {diagnosis}\n",
    "- Medications: {medication}\n",
    "- Hospitalization reason: {hospitalization_reason}\n",
    "- Dental Readiness: {dental_readiness}\n",
    "- Lab results: {test_name} - {result_value} - {unit} ref low {ref_low} ref high {ref_high}\n",
    "- Doctor Visits: {encounters_6mo}\n",
    "**Mental Health**\n",
    "- Mental Health Medication: {mental_health_medication}\n",
    "- Therapy Sessions: {therapy_sessions}\n",
    "\n",
    "Analyze the data and provide a health status score, considering the severity of the conditions, frequency of health visists, mental health management, and laboratory flags. If fields are left blank assume that the pilot did not have to any condition or procedure. Provide reasoning for your score in the following list format:\n",
    "[score, reason]\"\"\"\n"
   ]
  },
  {
   "cell_type": "code",
   "execution_count": 0,
   "metadata": {
    "application/vnd.databricks.v1+cell": {
     "cellMetadata": {},
     "inputWidgets": {},
     "nuid": "5858fb8c-67b1-4fec-a110-abc4b0a4c524",
     "showTitle": false,
     "tableResultSettingsMap": {},
     "title": ""
    }
   },
   "outputs": [],
   "source": [
    "@F.udf(\"string\")\n",
    "def render_prompt(m: dict)-> str:\n",
    "    return template.format(**m)"
   ]
  }
 ],
 "metadata": {
  "application/vnd.databricks.v1+notebook": {
   "computePreferences": null,
   "dashboards": [],
   "environmentMetadata": {
    "base_environment": "",
    "environment_version": "3"
   },
   "inputWidgetPreferences": null,
   "language": "python",
   "notebookMetadata": {
    "pythonIndentUnit": 4
   },
   "notebookName": "Untitled Notebook 2025-08-26 10_32_46",
   "widgets": {}
  },
  "language_info": {
   "name": "python"
  }
 },
 "nbformat": 4,
 "nbformat_minor": 0
}

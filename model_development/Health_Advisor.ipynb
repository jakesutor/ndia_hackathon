{
 "cells": [
  {
   "cell_type": "code",
   "execution_count": 0,
   "metadata": {
    "application/vnd.databricks.v1+cell": {
     "cellMetadata": {
      "byteLimit": 2048000,
      "rowLimit": 10000
     },
     "inputWidgets": {},
     "nuid": "6c992e1b-e3f3-4028-b358-1fa2d4b9d060",
     "showTitle": false,
     "tableResultSettingsMap": {},
     "title": ""
    }
   },
   "outputs": [],
   "source": [
    "from pyspark.sql.functions import col\n",
    "from pyspark.sql.functions import lit\n",
    "from pyspark.sql import functions as f\n",
    "from pyspark.sql.functions import regexp_replace\n",
    "import mlflow.deployments\n",
    "import mlflow\n",
    "from pyspark.sql.functions import udf\n",
    "from pyspark.sql.functions import pandas_udf,StringType\n",
    "import pandas as pd\n",
    "import time\n",
    "from pyspark.sql.functions import element_at, split"
   ]
  },
  {
   "cell_type": "code",
   "execution_count": 0,
   "metadata": {
    "application/vnd.databricks.v1+cell": {
     "cellMetadata": {
      "byteLimit": 2048000,
      "rowLimit": 10000
     },
     "inputWidgets": {},
     "nuid": "dd463757-096d-456a-ba36-00726bc3c911",
     "showTitle": false,
     "tableResultSettingsMap": {},
     "title": ""
    }
   },
   "outputs": [],
   "source": [
    "\n",
    "template = \"\"\"You are an expert health advisor evaluating the health status of military pilots based on medical and readiness data. Given the following features and record for a pilot, assess their health status on a scale from 1 (unhealthy) to 10 (healthy). Consider factor like age, diagnosis, history, mental health status, prescriptions, lab results, and procedural compliance.\n",
    "**Pilot Information**\n",
    "- Age: {age}\n",
    "- Gender: {gender}\n",
    "- Rank: {rank}\n",
    "- Flight Hours Total: {flight_hours_total}\n",
    "- Flight Hours Last 12 Months: {flight_hours_last_12mo}\n",
    "- Aeromedical_Class_Current: {aeromedical_class_current}; Class I is the most stringent and will result in a higher probability of a disqualifying event than Class II or Class III. \n",
    "- PHA Status: {pha_status}; when Overdue, this could be considered a risk factor\n",
    "**Medical Records**\n",
    "- Diagnosis: {diagnosis}\n",
    "- Medications: {medication}\n",
    "- Reason: {reason}\n",
    "- Hospitalization reason: {hospitalization_reason}\n",
    "- Dental Readiness: {dental_readiness}; a score of 1 means perfectly ready, where a score of 3 is not ready\n",
    "- Lab results: {test_name} - {result_value} - {unit} ref low {ref_low} ref high {ref_high}\n",
    "- Doctor Visits: {encounters_6mo}\n",
    "- Visit Type: {visit_type}\n",
    "**Mental Health**\n",
    "- Mental Health Medication: {mental_health_medication}\n",
    "- Therapy Sessions: {therapy_sessions}\n",
    "\n",
    "Analyze the data and provide a health status score, considering the severity of the conditions, frequency of health visists, mental health management, and laboratory flags. If fields are left blank assume that the pilot did not have to any condition or procedure. Provide reasoning for your score in the following list format, do not provide any more context but the list. The output should look something like:\n",
    "    [8.4, 'The reason why the score is 8.4 is because...']\n",
    "\n",
    "Limit the answer to 200 tokens.\n",
    "\"\"\"\n",
    "\n",
    "'''def get_all_results(content: str) -> str:\n",
    "    deploy_client = mlflow.deployments.get_deploy_client(\"databricks\")\n",
    "    model_name = \"databricks-meta-llama-3-1-8b-instruct\"\n",
    "    inputs = {\n",
    "    \"messages\": [\n",
    "    {\n",
    "        \"role\": \"assistant\",\n",
    "        \"content\": content\n",
    "    }\n",
    "    ],\n",
    "    }\n",
    "    response = deploy_client.predict(endpoint = model_name, inputs = inputs)\n",
    "    response = response['choices'][0]['message']['content']\n",
    "    return response\n",
    "\n",
    "request_results = udf(get_all_results, returnType=StringType())'''\n",
    "def get_results(batch):\n",
    "    model_name = \"databricks-meta-llama-3-1-8b-instruct\"\n",
    "    deploy_client = mlflow.deployments.get_deploy_client(\"databricks\")\n",
    "    inputs = {\n",
    "    \"messages\": [\n",
    "    {\n",
    "        \"role\": \"user\",\n",
    "        \"content\": batch\n",
    "    }\n",
    "    ], \"max_tokens\" : 200\n",
    "    }\n",
    "    response = deploy_client.predict(endpoint = model_name, inputs = inputs)\n",
    "    response = response['choices'][0]['message']['content']\n",
    "    time.sleep(.1)\n",
    "    return response\n",
    "\n",
    "@pandas_udf(\"string\")\n",
    "def get_all_results(content: pd.Series) -> pd.Series:\n",
    "    max_batch_size = 50\n",
    "    all_results = []\n",
    "    for i in range(0, len(content, batch_size)):\n",
    "        batch = prompts[i:i+batch_size].tolist()\n",
    "        inputs = [{\"role\": \"user\", \"content\": b} for p in batch]\n",
    "        all_results += get_results(batch)\n",
    "    return pd.Series(all_results)\n",
    "\n",
    "\n",
    "\n",
    "\n",
    "@f.udf(\"string\")\n",
    "def render_prompt(m: dict)-> str:\n",
    "    return template.format(**m)\n",
    "\n",
    "\n",
    "\n",
    "def generate_json():\n",
    "    df = spark.table(\"avengers.default.all_pilots_data\")\n",
    "    profile_columns = [\"age\",\"gender\",'rank','flight_hours_total','flight_hours_last_12mo',\"diagnosis\",\"aeromedical_class_current\",\"pha_status\",\"medication\",\"reason\",\"hospitalization_reason\",\"dental_readiness\",\"test_name\",\"result_value\",\"unit\", \"ref_low\",\"ref_high\",\"encounters_6mo\",\"visit_type\",\"mental_health_medication\",\"therapy_sessions\"]\n",
    "    sections_struct = [f.col(col).alias(col) for col in profile_columns]\n",
    "    record_map = f.create_map(*sum([[f.lit(c), f.coalesce(f.col(c).cast(\"string\"), f.lit(\"\"))] for c in profile_columns],[]))\n",
    "    df = df.withColumn('content', f.to_json(f.struct(*sections_struct)))\n",
    "    df = df.withColumn('prompt', render_prompt(record_map))\n",
    "    df.write \\\n",
    "                            .format('delta') \\\n",
    "                            .option('maxRecordsPerFile', 2000) \\\n",
    "                            .option(\"overwriteSchema\", \"false\") \\\n",
    "                            .mode('overwrite') \\\n",
    "                            .saveAsTable(\"avengers.default.ai_generated_dataset_v3\")\n",
    "    df = spark.sql(\"SELECT *,ai_query('databricks-gpt-oss-120b', prompt) as result FROM avengers.default.ai_generated_dataset_v3\")\n",
    "    df = df.withColumn(\"readiness_score\",element_at(split(df.result, \",\"), 1))\\\n",
    "        .withColumn(\"readiness_score\",regexp_replace(\"readiness_score\", \"^\\\\[\", \"\"))\n",
    "    print(\"Writing Final Table\")\n",
    "    df.write \\\n",
    "                        .format('delta') \\\n",
    "                        .option('maxRecordsPerFile', 2000) \\\n",
    "                        .option(\"overwriteSchema\", \"false\") \\\n",
    "                        .mode('overwrite') \\\n",
    "                        .saveAsTable(\"avengers.default.ai_generated_dataset_complete_v3\")\n",
    "    return(df)"
   ]
  },
  {
   "cell_type": "code",
   "execution_count": 0,
   "metadata": {
    "application/vnd.databricks.v1+cell": {
     "cellMetadata": {
      "byteLimit": 2048000,
      "rowLimit": 10000
     },
     "inputWidgets": {},
     "nuid": "39bc4753-98e1-4da2-9483-4c64df1a4be0",
     "showTitle": false,
     "tableResultSettingsMap": {},
     "title": ""
    }
   },
   "outputs": [],
   "source": [
    "df = generate_json()\n"
   ]
  }
 ],
 "metadata": {
  "application/vnd.databricks.v1+notebook": {
   "computePreferences": {
    "hardware": {
     "accelerator": null,
     "gpuPoolId": null,
     "memory": null
    }
   },
   "dashboards": [],
   "environmentMetadata": {
    "base_environment": "",
    "environment_version": "3"
   },
   "inputWidgetPreferences": null,
   "language": "python",
   "notebookMetadata": {
    "pythonIndentUnit": 4
   },
   "notebookName": "Health_Advisor",
   "widgets": {}
  },
  "language_info": {
   "name": "python"
  }
 },
 "nbformat": 4,
 "nbformat_minor": 0
}
